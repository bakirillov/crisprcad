{
 "cells": [
  {
   "cell_type": "code",
   "execution_count": 4,
   "metadata": {},
   "outputs": [],
   "source": [
    "import json"
   ]
  },
  {
   "cell_type": "code",
   "execution_count": 5,
   "metadata": {},
   "outputs": [],
   "source": [
    "config = {\n",
    "    \"default\": \"Cas9_geCRISPR_CatBoost_Peng_offtarget\",\n",
    "    \"on-target report\": \"templates/ontarget.template.html\",\n",
    "    \"off-target report\": \"templates/offtarget.template.html\",\n",
    "    \"Cas9_geCRISPR_CatBoost_Peng_offtarget\": {\n",
    "        \"on\": \"./models/test/revcore_full_model_2.ptch\",\n",
    "        \"off\": \"./models/test/peng_difference.ptch\",\n",
    "        \"on_reg\": \"./models/test/gecrispr.cat\",\n",
    "        \"umap\": \"./models/test/test_umap.bin\",\n",
    "        \"reg_type\": \"catboost\",\n",
    "        \"guide_length\": 20,\n",
    "        \"use_pam\": False,\n",
    "        \"pam_before\": False,\n",
    "        \"PAM\": \"[ATGC]GG\",\n",
    "        \"background\": \"./models/test/test_background.pkl\",\n",
    "        \"max\": 0.048707843,\n",
    "        \"min\": 0.22760779\n",
    "    },\n",
    "    \"off_target_indices\": [\"indices/ecoli.pkl\"],\n",
    "    \"k_neighbors\": 10,\n",
    "    \"offtarget_batch_size\": 102400\n",
    "}"
   ]
  },
  {
   "cell_type": "code",
   "execution_count": 6,
   "metadata": {},
   "outputs": [],
   "source": [
    "with open(\"config.json\", \"w\") as oh:\n",
    "    json.dump(config, oh)"
   ]
  }
 ],
 "metadata": {
  "kernelspec": {
   "display_name": "Python 3",
   "language": "python",
   "name": "python3"
  },
  "language_info": {
   "codemirror_mode": {
    "name": "ipython",
    "version": 3
   },
   "file_extension": ".py",
   "mimetype": "text/x-python",
   "name": "python",
   "nbconvert_exporter": "python",
   "pygments_lexer": "ipython3",
   "version": "3.7.2"
  }
 },
 "nbformat": 4,
 "nbformat_minor": 2
}
